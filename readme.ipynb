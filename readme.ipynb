{
 "cells": [
  {
   "cell_type": "markdown",
   "metadata": {},
   "source": [
    "## TFix: Learning to Fix Coding Errors with a Text-to-Text Transformer\n"
   ]
  },
  {
   "cell_type": "markdown",
   "metadata": {},
   "source": [
    "TFix is a state-of-the-art system for automatically fixing coding errors in programs. The key idea behind TFix is to leverage a large text-to-text Transformer pre-trained on natural languages. This design allows TFix to apply a knowledge transfer between natural and programming languages. In addition to that, TFix is fine-tuned jointly on 52 different error types, which allows it to learn typical patterns across various error types together.\n",
    "\n"
   ]
  },
  {
   "cell_type": "markdown",
   "metadata": {},
   "source": [
    "We have loaded T5 base model which is already trained a large-scale dataset of ∼100k aligned pairs of coding errors and fixes from 5.5 million GitHub commits, then we have predicted the output for some test examples of the different error types, and we generated jason file which have\n",
    "* source code: is the code which have an error\n",
    "* target code: is the code after being corrected by a human developer\n",
    "* prediction: is the corrected code predicter by the model\n",
    "* correct: It's true if the code suggested by the model matches the target code"
   ]
  },
  {
   "cell_type": "markdown",
   "metadata": {},
   "source": [
    "The model has accuracy of 0.49 which is matching with the target source without, this percentage will increase when using error removal as a metric also as it counts a prediction as correct if the error is removed, in the paper it reached accuracy of 0.67"
   ]
  },
  {
   "cell_type": "markdown",
   "metadata": {},
   "source": [
    "You will find the results in the folder [t5model_results](t5model_results)"
   ]
  },
  {
   "cell_type": "markdown",
   "metadata": {},
   "source": [
    "### Here are some examples from the results\n",
    "```\n",
    "{\n",
    "      \"source_code\": \"  if (element === undefined) {\\n    throw 'getEnabledElement: parameter element must not be undefined';\\n  }\\n\",\n",
    "      \"target_code\": \"  if (element === undefined) {\\n    throw new Error('getEnabledElement: parameter element must not be undefined');\\n  }\\n\",\n",
    "      \"predection\": \"if (element === undefined) { throw new Error('getEnabledElement: parameter element must not be undefined'); }\",\n",
    "      \"error id\": \"no-throw-literal\",\n",
    "      \"correct\": \"True\"\n",
    "}\n",
    "\n",
    "\n",
    "{\n",
    "      \"source_code\": \"\\n  var self = this\\n  self.client = WebDriver.remote(options)\\n\",\n",
    "      \"target_code\": \"\\n  self.client = WebDriver.remote(options)\\n\",\n",
    "      \"predection\": \"self.client = WebDriver.remote(options)\",\n",
    "      \"error id\": \"no-redeclare\",\n",
    "      \"correct\": \"True\"\n",
    "}\n",
    "\n",
    "{\n",
    "      \"source_code\": \"const dbDump = function(env, done) {\\n  path = env !== 'prod' ? 'dev' : env;\\n  const date = moment();\\n\",\n",
    "      \"target_code\": \"const dbDump = function(env, done) {\\n  const envPath = env !== 'prod' ? 'dev' : env;\\n  const date = moment();\\n\",\n",
    "      \"predection\": \"const dbDump = function(env, done) { let path = env!== 'prod'? 'dev' : env; const date = moment();\",\n",
    "      \"error id\": \"no-const-assign\",\n",
    "      \"correct\": \"False\"\n",
    "},\n",
    "```\n"
   ]
  }
 ],
 "metadata": {
  "kernelspec": {
   "display_name": "Python 3.10.2 64-bit",
   "language": "python",
   "name": "python3"
  },
  "language_info": {
   "name": "python",
   "version": "3.10.2"
  },
  "orig_nbformat": 4,
  "vscode": {
   "interpreter": {
    "hash": "61be8c8d4015cd93cf6433c95fd78eb18ff6b4622f9a43d6e604d816007f2819"
   }
  }
 },
 "nbformat": 4,
 "nbformat_minor": 2
}
